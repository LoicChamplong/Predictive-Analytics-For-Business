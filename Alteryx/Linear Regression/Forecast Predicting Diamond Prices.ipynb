{
 "cells": [
  {
   "cell_type": "markdown",
   "metadata": {},
   "source": [
    "# Predictive Analysis – Predicting Diamond Prices "
   ]
  },
  {
   "attachments": {},
   "cell_type": "markdown",
   "metadata": {},
   "source": [
    "I used Alteryx to build this analysis but it could have been done with other softwares such as Knime or even Excel, R or Python. Alteryx is simply and extremely powerful tool that allows team that are familiar with code to make analysis in a quick and very efficient way.\n",
    "\n",
    "A diamond distributor has recently decided to exit the market and has put up a set of 3,000 diamonds up for auction. Seeing this as a great opportunity to expand its inventory, a jewelry company has shown interest in making a bid. To decide how much to bid, the company’s analytics team used a large database of diamond prices to build a linear regression model to predict the price of a diamond based on its attributes. You, as the business analysts, are tasked to apply that model to make a recommendation for how much the company should bid for the entire set of 3,000 diamonds.\n",
    "\n",
    "![predictive-diagram.png](https://loicchamplong.com/wp-content/uploads/2020/03/predictive-diagram.png)"
   ]
  },
  {
   "cell_type": "markdown",
   "metadata": {},
   "source": [
    "## According to the model, if a diamond is 1 carat heavier than another with the same cut, how much more should they expect to pay? Why?\n"
   ]
  },
  {
   "cell_type": "markdown",
   "metadata": {},
   "source": [
    "According to the model, if a diamond is 1 carat heavier than another with the same cut and quality, they should expect to pay USD 8,413 more. Indeed, As the carat coefficient is USD 8,413, we expect that a 1-carat increase will lead to an increase of USD 8,413.\n",
    "\n",
    "considering all the other features are constant (‘Cut’, Clarity’), changing the ‘Carat’ by 1 unit will cause an increase of USD 8413 in the predicted price.\n"
   ]
  },
  {
   "cell_type": "markdown",
   "metadata": {},
   "source": [
    "## If the client was interested in a 1.5 carat diamond with a Very Good cut (represented by a 3 in the model) and a VS2 clarity rating (represented by a 5 in the model), how much would the model predict they should pay for it?\n",
    "\n"
   ]
  },
  {
   "cell_type": "markdown",
   "metadata": {},
   "source": [
    "The linear regression model provides an equation that you can use to predict diamond prices for the set of 3,000 diamonds. The equation is below:\n",
    "\n",
    "Price = -5,269 + 8,413 x Carat + 158.1 x Cut + 454 x Clarity\n",
    "Applied the formula gives us this related price:\n",
    "\n",
    "Price = -5269 + 8413 (1.5) + 158.1(3) + 454 (5)  $ 10,094.80"
   ]
  },
  {
   "cell_type": "markdown",
   "metadata": {},
   "source": [
    "## What is the correlation between carats and prices?\n",
    "\n",
    "\n"
   ]
  },
  {
   "attachments": {},
   "cell_type": "markdown",
   "metadata": {},
   "source": [
    "![Screen-Shot-2020-03-22-at-7.02.55-PM%20%281%29.png](https://loicchamplong.com/wp-content/uploads/2020/03/Screen-Shot-2020-03-22-at-7.02.55-PM.png)\n",
    "\n",
    "\n",
    "The scatter plot has strong and positive relationships . The prices do indeed increase exponentially with the carat. However, the predicted prices are in a much narrower range than the actual set of prices. This indicates that other factors that are not included in the model affect the price. It is also worth to mentioned that there’s one large outlier in the set that sells for over $30,000. Lastly, the predicted price of some diamonds is less than zero."
   ]
  },
  {
   "cell_type": "markdown",
   "metadata": {},
   "source": [
    "## What price do you recommend the jewelry company to bid?\n"
   ]
  },
  {
   "cell_type": "markdown",
   "metadata": {},
   "source": [
    "By using the formula from the regression model provided earlier\n",
    "\n",
    "Price = -5,269 + 8,413 x Carat + 158.1 x Cut + 454 x Clarity\n",
    "and based on previous diamond sales, we applied it to the diamonds that were up for bid. The sum for all predicted prices is $ 11733523. The company generally purchases diamonds from distributors at 70 percent of that price. Hence, we multiplied the above resultant by 0.7 (i.e. 70 percent) to get the answer of 8,213,465 USD."
   ]
  }
 ],
 "metadata": {
  "kernelspec": {
   "display_name": "Python 3",
   "language": "python",
   "name": "python3"
  },
  "language_info": {
   "codemirror_mode": {
    "name": "ipython",
    "version": 3
   },
   "file_extension": ".py",
   "mimetype": "text/x-python",
   "name": "python",
   "nbconvert_exporter": "python",
   "pygments_lexer": "ipython3",
   "version": "3.7.6"
  }
 },
 "nbformat": 4,
 "nbformat_minor": 4
}
