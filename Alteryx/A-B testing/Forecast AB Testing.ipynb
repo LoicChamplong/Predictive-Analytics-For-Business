{
 "cells": [
  {
   "cell_type": "markdown",
   "metadata": {},
   "source": [
    "# Predictive Analysis – A/B testing "
   ]
  },
  {
   "cell_type": "markdown",
   "metadata": {},
   "source": [
    "I used Alteryx to build this analysis but it could have been done with other softwares such as Knime or even Excel, R or Python. Alteryx is simply and extremely powerful tool that allows team that are familiar with code to make analysis in a quick and very efficient way.\n",
    "\n",
    "Round Roasters is an upscale coffee chain with locations in the western United States of America. The past few years have resulted in stagnant growth at the coffee chain, and a new management team was put in place to reignite growth at their stores.\n",
    "\n",
    "The first major growth initiative is to introduce gourmet sandwiches to the menu, along with limited wine offerings. The new management team believes that a television advertising campaign is crucial to drive people into the stores with these new offerings.\n",
    "\n",
    "However, the television campaign will require a significant boost in the company’s marketing budget, with an unknown return on investment. Additionally, there is concern that current customers will not buy into the new menu offerings.\n",
    "\n",
    "To minimize risk, the management team decides to test the changes in two cities with new television advertising. Denver and Chicago cities were chosen to participate in this test because the stores in these two cities (or markets) perform similarly to all stores across the entire chain of stores; performance in these two markets would be a good proxy to predict how well the updated menu performs.\n",
    "\n",
    "The test ran for a period of 12 weeks (2016-April-29 to 2016-July-21) where five stores in each of the test markets offered the updated menu along with television advertising.\n",
    "\n",
    "The comparative period is the test period, but for last year (2015-April-29 to 2015-July-21).\n",
    "\n",
    "I have been asked to analyze the results of the experiment to determine whether the menu changes should be applied to all stores. The predicted impact to profitability should be enough to justify the increased marketing budget: at least 18% increase in profit growth compared to the comparative period while compared to the control stores; otherwise known as incremental lift. In the data, profit is represented in the gross_margin variable.\n",
    "\n",
    "For the purpose of this task, we will A/B Testing. It is an algorithm that will enable us to determine whether changes in landing pages, popup forms, article titles, and even in corporate decisions, if new implementations can improve  customer purchasing behavior."
   ]
  },
  {
   "cell_type": "markdown",
   "metadata": {},
   "source": [
    "## A/B Testing\n"
   ]
  },
  {
   "cell_type": "markdown",
   "metadata": {},
   "source": [
    "Whether you’re launching a new product, changing a website design, or testing a new price, an AB test can help you make a decision with confidence when you don’t have a lot of data. Below is a useful, high level guide to designing and running an AB test.\n",
    "\n",
    "It relies on several steps: \n",
    "\n",
    "- Select performance metric \n",
    "- Select experimental design\n",
    "- Select the treatment and control units\n",
    "- Select experimental and control variables\n",
    "- Determine sample size and test duration\n",
    "- Clean and prepare data\n",
    "- Calculate lift\n",
    "- Determine statistical significance\n",
    "- Estimate impact of broad implementation\n"
   ]
  },
  {
   "cell_type": "markdown",
   "metadata": {},
   "source": [
    "## Understand the data and prepare the model\n"
   ]
  },
  {
   "attachments": {},
   "cell_type": "markdown",
   "metadata": {},
   "source": [
    "We are given three spreadsheet files. \n",
    "\n",
    "- round-roaster-stores.csv - This file contains store information for each Round Roaster store in the USA (the monthly average sales by store is also displayed in this file). \n",
    "- treatment-stores.csv - This file contains store information for each store that offered the new menu items (ten treatments units).\n",
    "- round-roaster-transactions.zip - This file contains transaction level information for all of Round Roaster's stores (sum margin and total sales).\n",
    "- In this case the treatment units are already given to use by the company. What we have to do now is to clean the data (look for outliers) and aggregate them so we can make our analysis. \n",
    "\n",
    "#### Select performance metric\n",
    "It’s important to understand the metric used to evaluate the results of the test. Whether the goal is to increase sales, profit, conversion rate, etc. This should be specified at the upfront.\n",
    "\n",
    "In our case, the sum of gross margin will be used as performance metrics in order to evaluate whether or not we introduce the new menu to speed up the sales growth at Round Roasters.\n",
    "\n",
    "#### Select experimental design \n",
    "Matched pair - when the sample size is small and/or the data is difficult to collect, a matched pair experiment should be used.\n",
    "\n",
    "Randomized design - when the sample size is large and the data is easy to collect, then a randomized experiment should be used. Randomized experiments are very common for web-based AB tests.\n",
    "\n",
    "In our case, the sample is rather small, we only have 10 treatment units and we will go with the Match Pair Design.\n",
    "Determining Samples and Size Duration \n",
    "\n",
    "For our predictive model, we have determined that the test would last for 12 weeks. We need 52 weeks of historical data to predict an outcome with the right accuracy and avoid bias. Hence, our test will compromise 76 weeks of data. Our sample will be aggregated on a weekly basis. \n",
    "\n",
    "#### Select experimental and control variables\n",
    "In our datasets, we have two data that could match with the sum margin: the average sales and the size of the restaurants in square meters. \n",
    "\n",
    "By proceeding a correlation analysis, our Pearson model shows us that the average sales will be the selected variables to complete the model. \n",
    "\n",
    "![Screen-Shot-2020-04-27-at-8.03.41-PM-1024x266.png](https://loicchamplong.com/wp-content/uploads/2020/04/Screen-Shot-2020-04-27-at-8.03.41-PM-1024x266.png)\n",
    "\n",
    "The control variables will be composed of the SumMargin and AvgMonthSales. \n",
    "\n",
    "For our treatments variables, we will calculate the Trend and Seasonality (on a weekly basis) along with AvgMonthSales to determine a ratio.\n"
   ]
  },
  {
   "cell_type": "markdown",
   "metadata": {},
   "source": [
    "## Clean and prepare data\n",
    "\n"
   ]
  },
  {
   "attachments": {},
   "cell_type": "markdown",
   "metadata": {},
   "source": [
    "![Screen-Shot-2020-04-27-at-8.09.35-PM-1024x391.png](https://loicchamplong.com/wp-content/uploads/2020/04/Screen-Shot-2020-04-27-at-8.09.35-PM-1024x391.png)\n",
    "\n",
    "The RoundRoaster and Round Roaster Store spreadsheet files are joined into one file.\n",
    "\n",
    "Since the test period lasted for 12 weeks, we will need 76 weeks of data (AB test requires 52 weeks minimum of data) to perform this analysis. The test will then last from 6-Feb-16 to 21-Jul-16).\n",
    "\n",
    "The data are aggregated into three files. One file contains the weekly traffic in the stores.\n",
    "\n",
    "To do this we created three new columns, telling us the week start of the experiment, the week end and also the week (time level indicator of the experiment from 1 to 76). We also counted (distinctly) the number of invoices. The second file contains the weekly of the sum_margin and sum_sales. Finally, the last files enables us to make a document listing our control and treatment units."
   ]
  },
  {
   "cell_type": "markdown",
   "metadata": {},
   "source": [
    "## Analysis\n"
   ]
  },
  {
   "attachments": {},
   "cell_type": "markdown",
   "metadata": {},
   "source": [
    "Control stores: \n",
    "In the end we could match two control stores to one treatment unit with the closest characteristics possible, it is a total of 20 control stores and 10 treatment stores where the new menu was deployed. \n",
    "\n",
    "We only took into account the region of Central and West to get the closest stores to our treatment units and avoid biases.\n",
    "\n",
    "![Screen-Shot-2020-04-27-at-8.14.56-PM-996x1024.png](https://loicchamplong.com/wp-content/uploads/2020/04/Screen-Shot-2020-04-27-at-8.14.56-PM-996x1024.png)"
   ]
  },
  {
   "attachments": {},
   "cell_type": "markdown",
   "metadata": {},
   "source": [
    "Our analysis shows that the overall analysis is quite positive with a lift of 40.7% and an expected growth of 681 USD weekly. The significance ratio is a 100%. The Dot Plot bellow also indicates us that the treatment stores had a better performance than the control stores. \n",
    "\n",
    "![Screen-Shot-2020-04-27-at-8.16.41-PM-1024x589.png](https://loicchamplong.com/wp-content/uploads/2020/04/Screen-Shot-2020-04-27-at-8.16.41-PM-1024x589.png)\n",
    "\n",
    "In the end, since the lift is superior to 20% and the sales growth is exponential, our recommandation would be to launch the new premium menu to the entire US territory."
   ]
  }
 ],
 "metadata": {
  "kernelspec": {
   "display_name": "Python 3",
   "language": "python",
   "name": "python3"
  },
  "language_info": {
   "codemirror_mode": {
    "name": "ipython",
    "version": 3
   },
   "file_extension": ".py",
   "mimetype": "text/x-python",
   "name": "python",
   "nbconvert_exporter": "python",
   "pygments_lexer": "ipython3",
   "version": "3.7.6"
  }
 },
 "nbformat": 4,
 "nbformat_minor": 4
}
