{
 "cells": [
  {
   "cell_type": "markdown",
   "metadata": {},
   "source": [
    "# Predictive Analysis – Forecast Catalog demand"
   ]
  },
  {
   "cell_type": "markdown",
   "metadata": {},
   "source": [
    "I work for a company that makes and sells high-end home goods. The company has 250 new customers from their mailing list that they want to send the catalog to. I have been asked to determine how much profit the company can make from sending a catalog to these new customers. We need to predict the expected profit. Management does not want to send the catalog unless the expected profit exceeds $10,000.\n",
    "\n",
    "I used Alteryx to build this analysis but it could have been done with other softwares such as Knime or even Excel, R or Python. Alteryx is simply and extremely powerful tool that allows team that are familiar with code to make analysis in a quick and very efficient way."
   ]
  },
  {
   "cell_type": "markdown",
   "metadata": {},
   "source": [
    "## What data is needed to answer the needs?"
   ]
  },
  {
   "cell_type": "markdown",
   "metadata": {},
   "source": [
    "Two excel files were provided, one with historical data and another spreadsheet file with the new mailing list. We need to understand the previous pattern from last year:\n",
    "\n",
    "- The preexisting behaviours from last year sales with the average amount of sales\n",
    "- Who are the new customers and how they would response to the new catalog\n",
    "- Other variables such as the customer segmentation, the average number of purchase\n",
    "\n",
    "Additionally, we need to take into account the gross margin (50%) and the cost of printing/sending the catalogs ($6.50/customer). The marketing department of the company also provided us with a Score_Yes and Score_No ratio in the list of new customers. The Score_Yes ratio will be used in our formula later to forecast the turnover we can generate.\n",
    "\n",
    "Additional information:\n",
    "\n",
    "- Spreadsheet of historical data \n",
    "- Spreadsheet of new customers"
   ]
  },
  {
   "cell_type": "markdown",
   "metadata": {},
   "source": [
    "## Analysis, Modeling, and Validation"
   ]
  },
  {
   "cell_type": "markdown",
   "metadata": {},
   "source": [
    "In the first place, we need to decide which predictor variables we need to use in order to answer the business problem. The datasets here are small and the predictor variables are quite obvious. The process would be different for a larger database (in this case for example, we did not have to deal with outliers) but here, it was quite fast. \n",
    "\n"
   ]
  },
  {
   "attachments": {},
   "cell_type": "markdown",
   "metadata": {},
   "source": [
    "![Screen-Shot-2020-04-05-at-16.03.53.png](https://loicchamplong.com/wp-content/uploads/2020/04/Screen-Shot-2020-04-05-at-16.03.53.png)"
   ]
  },
  {
   "cell_type": "markdown",
   "metadata": {},
   "source": [
    "Name, Address, City, State, ZIP, Responded_to_Last_Catalog are not numeric variables since they are unique identifiers of places/matters rather than measured values. They are by default out our of equation and predictive model as they would not give us any good indications. Responded_to_Last_Catalog could be used as dummy variables, but we are dealing with a new list of customers. Using this sample of historical data would include too many lurking variables that would bias our analysis.\n",
    "\n",
    "We are left with two sets of variable to compare in our linear regression analysis in order to select the best potential predictor variables.\n",
    "\n",
    "The correlation between the average amount of sales and the number of years customers were faithful to the company made little sense with no strong relationships between the two variables. \n",
    "\n"
   ]
  },
  {
   "attachments": {},
   "cell_type": "markdown",
   "metadata": {},
   "source": [
    "![Screen-Shot-2020-04-05-at-16.22.44.png](https://loicchamplong.com/wp-content/uploads/2020/04/Screen-Shot-2020-04-05-at-16.22.44.png)"
   ]
  },
  {
   "cell_type": "markdown",
   "metadata": {},
   "source": [
    "In the end, the lack of correlation strongly indicates that we could not build a predictive model out of those two variables. \n",
    "\n",
    "We then took a look at the correlation between the average amount of sales and the average amount of purchased items."
   ]
  },
  {
   "attachments": {},
   "cell_type": "markdown",
   "metadata": {},
   "source": [
    "![Screen-Shot-2020-04-05-at-16.25.46.png](https://loicchamplong.com/wp-content/uploads/2020/04/Screen-Shot-2020-04-05-at-16.25.46.png)"
   ]
  },
  {
   "cell_type": "markdown",
   "metadata": {},
   "source": [
    "We can see a strong and positive relationship between the two variables. It indicates we can use them are predictors in our predictive model. \n",
    "\n",
    "Now we need to run our linear regression in order to validate our hypothesis. \n",
    "\n",
    "NB: In order to predict the best behaviour model possible with our historical, I added the customer segmentation (which is also provided in the list of new customers) as a dummy variable (since it is a nominal categorical data). "
   ]
  },
  {
   "attachments": {},
   "cell_type": "markdown",
   "metadata": {},
   "source": [
    "![Screen-Shot-2020-04-05-at-16.55.44.png](https://loicchamplong.com/wp-content/uploads/2020/04/Screen-Shot-2020-04-05-at-16.55.44.png)"
   ]
  },
  {
   "cell_type": "markdown",
   "metadata": {},
   "source": [
    "In the end, the model shows an adjusted R-Squared close to 1 (0.8366) which supports that those variables are good candidates to predict the expected amount of sales per customers and profit. The p-values is below .05 and hence approves these variables for our prediction model. \n",
    "\n",
    "The equation is as followed:"
   ]
  },
  {
   "cell_type": "markdown",
   "metadata": {},
   "source": [
    "= 303.46 – 149.36 * Customer_Segment_Loyalty_Club_Only + 281.84 *Customer_Segment_Loyalty_Club_And_Credit_Card – 245.42 * Customer_Segment_Mailing_List + 66.98 * Avg_Num_Products_Purchased\n"
   ]
  },
  {
   "cell_type": "markdown",
   "metadata": {},
   "source": [
    "After applying the model with the tool Score to determine the average turnover per customers based on the linear regression, we need to multiple it with [Score_Yes] that was provided in the data in order to determine the final average expected revenue per customers.\n",
    "\n",
    "Once this is done, we have to take into account other variables that were given: the profit margin (50%) and the product cost of the catalog (6.5). "
   ]
  },
  {
   "attachments": {},
   "cell_type": "markdown",
   "metadata": {},
   "source": [
    "![Screen-Shot-2020-04-05-at-17.13.23.png](https://loicchamplong.com/wp-content/uploads/2020/04/Screen-Shot-2020-04-05-at-17.13.23.png)"
   ]
  },
  {
   "cell_type": "markdown",
   "metadata": {},
   "source": [
    "Once the formula is complete and applied, it appears that the profit of this marketing operation would exceed USD0K with a profit of $ 21,987. Since it is almost 12K more than expected, and we have proven that the predictive model is valid using the R-Squared and p-values, I would strongly recommend that the company carries on the catalog marketing campaign and send it to the 250 new customers.\n",
    "\n",
    "Here is a screenshot of the Alteryx workflow. Other softwares such as Knime could also have been used to make this analysis."
   ]
  },
  {
   "attachments": {},
   "cell_type": "markdown",
   "metadata": {},
   "source": [
    "![Screen-Shot-2020-04-05-at-17.27.46.png](https://loicchamplong.com/wp-content/uploads/2020/04/Screen-Shot-2020-04-05-at-17.27.46.png)"
   ]
  }
 ],
 "metadata": {
  "kernelspec": {
   "display_name": "Python 3",
   "language": "python",
   "name": "python3"
  },
  "language_info": {
   "codemirror_mode": {
    "name": "ipython",
    "version": 3
   },
   "file_extension": ".py",
   "mimetype": "text/x-python",
   "name": "python",
   "nbconvert_exporter": "python",
   "pygments_lexer": "ipython3",
   "version": "3.7.6"
  }
 },
 "nbformat": 4,
 "nbformat_minor": 4
}
