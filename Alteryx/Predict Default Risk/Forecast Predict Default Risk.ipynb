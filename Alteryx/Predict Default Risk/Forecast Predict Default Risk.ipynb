{
 "cells": [
  {
   "cell_type": "markdown",
   "metadata": {},
   "source": [
    "# Predictive Analysis – Predict Default Risk"
   ]
  },
  {
   "cell_type": "markdown",
   "metadata": {},
   "source": [
    "I work for a small bank and I am responsible for determining if customers are creditworthy to give a loan to. My team typically gets 200 loan applications per week and approves them by hand.\n",
    "\n",
    "Due to a financial scandal that hit a competitive bank last week, I suddenly have an influx of new people applying for loans for my company instead of the other bank in my city. All of a sudden we have nearly 500 loan applications to process this week!\n",
    "\n",
    "My manager sees this new influx as a great opportunity and wants you to figure out how to process all of these loan applications within one week.\n",
    "\n",
    "I have the following information to work with:\n",
    "\n",
    "- Data on all past applications\n",
    "- The list of customers that need to be processed in the next few days\n",
    "\n",
    "I used Alteryx to build this analysis but it could have been done with other softwares such as Knime or even Excel, R or Python. Alteryx is simply and extremely powerful tool that allows team that are familiar with code to make analysis in a quick and very efficient way."
   ]
  },
  {
   "cell_type": "markdown",
   "metadata": {},
   "source": [
    "## How to answer this business problem?"
   ]
  },
  {
   "cell_type": "markdown",
   "metadata": {},
   "source": [
    "Since it is a binary problem (yes or no question), we will have to run different predictive models and compare them to select the best one before forecasting the creditworthiness of the new customers. \n",
    "\n",
    "- Logistic Regression\n",
    "- Decision Tree\n",
    "- Forest Model\n",
    "- Boosted Tree"
   ]
  },
  {
   "cell_type": "markdown",
   "metadata": {},
   "source": [
    "## Analyzing the situation"
   ]
  },
  {
   "cell_type": "markdown",
   "metadata": {},
   "source": [
    "Now that we understood the question to answer; we need to assess the situation and understand the information that were given to us.\n",
    "\n",
    "By using the Problem Solving Framework, we can understand better our situation and how to deal with. \n"
   ]
  },
  {
   "cell_type": "markdown",
   "metadata": {},
   "source": [
    "![Screen-Shot-2020-04-27-at-6.24.43-PM-1024x475.png](https://loicchamplong.com/wp-content/uploads/2020/04/Screen-Shot-2020-04-27-at-6.24.43-PM-1024x475.png)"
   ]
  },
  {
   "attachments": {},
   "cell_type": "markdown",
   "metadata": {},
   "source": [
    "![Screen-Shot-2020-04-27-at-6.24.35-PM.png](https://loicchamplong.com/wp-content/uploads/2020/04/Screen-Shot-2020-04-27-at-6.24.35-PM.png)"
   ]
  },
  {
   "cell_type": "markdown",
   "metadata": {},
   "source": [
    "We have a rich dataset, a little data is missing and appearing as NULLS in the spreadsheet (we will talk about further later on). However, we have more than enough information to build a predictive model.\n",
    "\n",
    "Our dataset is composed of numeric and non-numeric continuous data. The answer to our question is whether or not a future customer will be creditworthy. It is a yes or no question, hence It is a binary model we will predict.\n",
    "\n",
    "Our data is composed of 20 variables: \n",
    "\n",
    "- Credit-Application-Result (dependent variable)\n",
    "- Account-Balance\n",
    "- Duration-of-Credit-Month\n",
    "- Payment-Status-of-Previous- Credit\n",
    "- Purpose\n",
    "- Credit-Amount\n",
    "- Value-Savings-Stocks\n",
    "- Length-of-current-employment\n",
    "- Instalment-per-cent\n",
    "- Guarantors\n"
   ]
  },
  {
   "cell_type": "markdown",
   "metadata": {},
   "source": [
    "## Building the data set"
   ]
  },
  {
   "cell_type": "markdown",
   "metadata": {},
   "source": [
    "The datasets do not contain outliers. However, two variables contains NULLS. \n",
    "\n",
    "- Duration-in-Current-address: 344 nulls\n",
    "\n",
    "- Age-years: 16 nulls\n",
    "\n",
    "For the sake of our predictive models, Duration-in-Current-address will be removed from the datasets (they have little correlation with our subject anyway). Regarding the Age-years variable, since it might be an important predictor variable, we will impute the missing data with the Median (age of 33). It is not ideal in terms of accuracy but it allows us not to bias our model and carry on with the prediction. \n",
    "\n",
    "We now need to compare the other variables to determine their accuracy and usefulness in the model. The data fields that are uniform with low variabilities will  be removed from our predictive model. "
   ]
  },
  {
   "attachments": {},
   "cell_type": "markdown",
   "metadata": {},
   "source": [
    "![Screen-Shot-2020-04-27-at-6.43.47-PM.png](https://loicchamplong.com/wp-content/uploads/2020/04/Screen-Shot-2020-04-27-at-6.43.47-PM.png)"
   ]
  },
  {
   "cell_type": "markdown",
   "metadata": {},
   "source": [
    "The fields Concurrent Credits, Occupation, Guarantors, Foreign Worker, Telephone and No of Dependents show low variability and are then removed. \n",
    "\n",
    "We also added a filter to create a sample of 70/30 (70% to create the Estimation set and 30% to create the  Validation set) to have a better overview of the analysis.\n",
    "\n",
    "In the end our dataset is composed of 13 variables to work with:\n",
    "\n",
    "- Credit-Application-Result (dependent variable)\n",
    "- Account-Balance\n",
    "- Duration-of-Credit-Month\n",
    "- Payment-Status-of-Previous-Credit\n",
    "- Purpose\n",
    "- Credit-Amount\n",
    "- Value-Savings-Stocks\n",
    "- Length-of-current-employment\n",
    "- Instalment-per-cent\n",
    "- Most-valuable-available-asset\n",
    "- Age_years\n",
    "- Type-of-apartment\n",
    "- No-of-Credits-at-this-Bank"
   ]
  },
  {
   "cell_type": "markdown",
   "metadata": {},
   "source": [
    "## Building the data set"
   ]
  },
  {
   "cell_type": "markdown",
   "metadata": {},
   "source": [
    "As we stated of the beginning of the project, we will compare 4 different models and choose the most effective one. \n",
    "\n",
    "#### Logistic regression / Stepwise:\n",
    "Definition:\n",
    "\n",
    "Logistic regression is a statistical model that in its basic form uses a logistic function to model a binary dependent variable, although many more complex extensions exist. In regression analysis, logistic regression (or logit regression) is estimating the parameters of a logistic model (a form of binary regression). Mathematically, a binary logistic model has a dependent variable with two possible values, such as pass/fail which is represented by an indicator variable, where the two values are labeled \"0\" and \"1\". In the logistic model, the log-odds (the logarithm of the odds) for the value labeled \"1\" is a linear combination of one or more independent variables (\"predictors\"); the independent variables can each be a binary variable (two classes, coded by an indicator variable) or a continuous variable (any real value). The corresponding probability of the value labeled \"1\" can vary between 0 (certainly the value \"0\") and 1 (certainly the value \"1\"), hence the labeling; the function that converts log-odds to probability is the logistic function, hence the name.\n",
    "\n",
    "In our case, the results from the Logistic Regression Model Stepwise indicates a R-Squared of 0.2 which is low. In this context, a low R-squared value indicates that our independent variable does not explain much in the variation of our dependent variable. The logistic regression model might not be the one we’d to use in to predict the trustworthiness of our future clients. Account Balance, Purpose and Credit Amount are the top 3 most significant variables with p-value of less than 0.05. The accuracy of the model is 0.76."
   ]
  },
  {
   "attachments": {},
   "cell_type": "markdown",
   "metadata": {},
   "source": [
    "![Screen-Shot-2020-04-27-at-6.55.43-PM.png](https://loicchamplong.com/wp-content/uploads/2020/04/Screen-Shot-2020-04-27-at-6.55.43-PM.png)"
   ]
  },
  {
   "cell_type": "markdown",
   "metadata": {},
   "source": [
    "#### Decision Tree:\n",
    "Definition:\n",
    "\n",
    "Decision Tree Algorithm for a Predictive Model. The decision tree is an important algorithm for predictive modelling and can be used to visually and explicitly represent decisions. It is a graphical representation that makes use of branching methodology to exemplify all possible outcomes based on certain conditions."
   ]
  },
  {
   "attachments": {},
   "cell_type": "markdown",
   "metadata": {},
   "source": [
    "![Screen-Shot-2020-04-27-at-6.57.49-PM.png](https://loicchamplong.com/wp-content/uploads/2020/04/Screen-Shot-2020-04-27-at-6.57.49-PM.png)"
   ]
  },
  {
   "cell_type": "markdown",
   "metadata": {},
   "source": [
    "The Decision Tree Model shows a total accuracy of 78 percent (see Confusion Matrix). The three more important variables would be: Account Balance, Value Saving Stocks and Duration of Credit Months.\n",
    "The accuracy of the model is 0.74, this is lower than our Logistic Regression model."
   ]
  },
  {
   "cell_type": "markdown",
   "metadata": {},
   "source": [
    "#### Random Forest:\n",
    "Definition:\n",
    "\n",
    "The random forest is a classification algorithm consisting of many decisions trees. It uses bagging and feature randomness when building each individual tree to try to create an uncorrelated forest of trees whose prediction by committee is more accurate than that of any individual tree.\n",
    "\n",
    "The Random Forest model shows as well with main variables: Credit Amount, Age years and Duration of Credit Month."
   ]
  },
  {
   "attachments": {},
   "cell_type": "markdown",
   "metadata": {},
   "source": [
    "![Screen-Shot-2020-04-27-at-7.01.06-PM.png](https://loicchamplong.com/wp-content/uploads/2020/04/Screen-Shot-2020-04-27-at-7.01.06-PM.png)"
   ]
  },
  {
   "cell_type": "markdown",
   "metadata": {},
   "source": [
    "The out of the bag line is also quite flattened which indicates that the model is preforming well with the cross-validation set in the estimation data. "
   ]
  },
  {
   "attachments": {},
   "cell_type": "markdown",
   "metadata": {},
   "source": [
    "![Screen-Shot-2020-04-27-at-7.02.19-PM.png](https://loicchamplong.com/wp-content/uploads/2020/04/Screen-Shot-2020-04-27-at-7.02.19-PM.png)"
   ]
  },
  {
   "cell_type": "markdown",
   "metadata": {},
   "source": [
    "The overall accuracy of the model is 0.7933 with 0.97 of creditworthy clients, which is quite high.\n",
    "\n"
   ]
  },
  {
   "cell_type": "markdown",
   "metadata": {},
   "source": [
    "#### Boosted Model:\n",
    "Definition:\n",
    "\n",
    "The Boosted Model relies on the machine learning technique known as boosting, in which small decision trees (“stumps”) are serially chain-linked together. Each successive tree in the chain is optimized to better predict the errored records from the previous link.\n",
    "\n",
    "The Boosted model shows two important variables: Credit Amount and Account Balance.\n",
    "\n"
   ]
  },
  {
   "attachments": {},
   "cell_type": "markdown",
   "metadata": {},
   "source": [
    "![Screen-Shot-2020-04-27-at-7.06.41-PM.png](https://loicchamplong.com/wp-content/uploads/2020/04/Screen-Shot-2020-04-27-at-7.06.41-PM.png)"
   ]
  },
  {
   "cell_type": "markdown",
   "metadata": {},
   "source": [
    "The overall accuracy of the model is 0.7867 with 0.96 accuracy for creditworthy clients.\n",
    "\n"
   ]
  },
  {
   "cell_type": "markdown",
   "metadata": {},
   "source": [
    "## Applying the model\n"
   ]
  },
  {
   "attachments": {},
   "cell_type": "markdown",
   "metadata": {},
   "source": [
    "![Screen-Shot-2020-04-27-at-7.08.30-PM-1024x168.png](https://loicchamplong.com/wp-content/uploads/2020/04/Screen-Shot-2020-04-27-at-7.08.30-PM-1024x168.png)\n",
    "\n",
    "In the end we will go with the Random Forest model since it is the more fitting with an accuracy of almost 0.80. \n",
    "\n",
    "![Screen-Shot-2020-04-27-at-7.09.42-PM.png](https://loicchamplong.com/wp-content/uploads/2020/04/Screen-Shot-2020-04-27-at-7.09.42-PM.png)\n",
    "\n",
    "This is also demonstrated by our ROC curve. \n",
    "\n",
    "Once the model applied, we get a CreditWorthy_Yes and CreditWorthy_No Score. We filtered the results by 50 percent in order to get the results. Out of the 500 customers, 82 percent (410) is creditworthy. On average, the customers are 36 years old.\n",
    "\n",
    "This is excellent news from the bank that can carry on with the onboarding of their new customers. "
   ]
  }
 ],
 "metadata": {
  "kernelspec": {
   "display_name": "Python 3",
   "language": "python",
   "name": "python3"
  },
  "language_info": {
   "codemirror_mode": {
    "name": "ipython",
    "version": 3
   },
   "file_extension": ".py",
   "mimetype": "text/x-python",
   "name": "python",
   "nbconvert_exporter": "python",
   "pygments_lexer": "ipython3",
   "version": "3.7.6"
  }
 },
 "nbformat": 4,
 "nbformat_minor": 4
}
